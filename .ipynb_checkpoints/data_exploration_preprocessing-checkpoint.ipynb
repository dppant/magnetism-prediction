{
 "cells": [
  {
   "cell_type": "markdown",
   "id": "3ab032c1-2f8c-463f-ae46-13ae99c8de06",
   "metadata": {},
   "source": [
    "### Data exploration and preprocessing"
   ]
  },
  {
   "cell_type": "code",
   "execution_count": 1,
   "id": "855238e7-7686-4bf5-9279-9efbe5a00ea7",
   "metadata": {
    "scrolled": true
   },
   "outputs": [],
   "source": [
    "# import libraries\n",
    "import numpy as np\n",
    "import pandas as pd\n",
    "import matplotlib.pyplot as plt\n",
    "import seaborn as sns\n",
    "sns.set_style(\"whitegrid\")\n",
    "%matplotlib inline"
   ]
  },
  {
   "cell_type": "code",
   "execution_count": 2,
   "id": "b5044dad-0c03-4e9d-9d28-f21f2541ea0f",
   "metadata": {
    "scrolled": true
   },
   "outputs": [],
   "source": [
    "# read raw data \n",
    "df_raw = pd.read_csv(\"data/all_merged_original.csv\")"
   ]
  },
  {
   "cell_type": "code",
   "execution_count": 3,
   "id": "ea81bab7",
   "metadata": {},
   "outputs": [
    {
     "name": "stdout",
     "output_type": "stream",
     "text": [
      "<class 'pandas.core.frame.DataFrame'>\n",
      "RangeIndex: 4468 entries, 0 to 4467\n",
      "Data columns (total 19 columns):\n",
      " #   Column     Non-Null Count  Dtype  \n",
      "---  ------     --------------  -----  \n",
      " 0   Ax_By_Cz   4468 non-null   object \n",
      " 1   A          4468 non-null   object \n",
      " 2   B          4468 non-null   object \n",
      " 3   C          4468 non-null   object \n",
      " 4   x          4468 non-null   float64\n",
      " 5   y          4468 non-null   float64\n",
      " 6   z          4468 non-null   int64  \n",
      " 7   structure  4468 non-null   object \n",
      " 8   S1         4468 non-null   int64  \n",
      " 9   S2         4468 non-null   int64  \n",
      " 10  S3         4468 non-null   int64  \n",
      " 11  S4         4468 non-null   int64  \n",
      " 12  Energy     4356 non-null   float64\n",
      " 13  Av_chg_x   4363 non-null   float64\n",
      " 14  Av_chg_y   4363 non-null   float64\n",
      " 15  Avg_chg_z  4362 non-null   float64\n",
      " 16  Charge     4356 non-null   float64\n",
      " 17  M          4352 non-null   float64\n",
      " 18  state      4355 non-null   float64\n",
      "dtypes: float64(9), int64(5), object(5)\n",
      "memory usage: 663.3+ KB\n"
     ]
    }
   ],
   "source": [
    "#Summary of dataframe\n",
    "df_raw.info()"
   ]
  },
  {
   "cell_type": "code",
   "execution_count": 4,
   "id": "9f1b5bc3-eafa-47d3-9e7a-a704ab52e6a3",
   "metadata": {
    "scrolled": true
   },
   "outputs": [
    {
     "data": {
      "text/html": [
       "<div>\n",
       "<style scoped>\n",
       "    .dataframe tbody tr th:only-of-type {\n",
       "        vertical-align: middle;\n",
       "    }\n",
       "\n",
       "    .dataframe tbody tr th {\n",
       "        vertical-align: top;\n",
       "    }\n",
       "\n",
       "    .dataframe thead th {\n",
       "        text-align: right;\n",
       "    }\n",
       "</style>\n",
       "<table border=\"1\" class=\"dataframe\">\n",
       "  <thead>\n",
       "    <tr style=\"text-align: right;\">\n",
       "      <th></th>\n",
       "      <th>x</th>\n",
       "      <th>y</th>\n",
       "      <th>z</th>\n",
       "      <th>S1</th>\n",
       "      <th>S2</th>\n",
       "      <th>S3</th>\n",
       "      <th>S4</th>\n",
       "      <th>Energy</th>\n",
       "      <th>Av_chg_x</th>\n",
       "      <th>Av_chg_y</th>\n",
       "      <th>Avg_chg_z</th>\n",
       "      <th>Charge</th>\n",
       "      <th>M</th>\n",
       "      <th>state</th>\n",
       "    </tr>\n",
       "  </thead>\n",
       "  <tbody>\n",
       "    <tr>\n",
       "      <th>count</th>\n",
       "      <td>4468.000000</td>\n",
       "      <td>4468.000000</td>\n",
       "      <td>4468.0</td>\n",
       "      <td>4468.000000</td>\n",
       "      <td>4468.000000</td>\n",
       "      <td>4468.000000</td>\n",
       "      <td>4468.000000</td>\n",
       "      <td>4356.000000</td>\n",
       "      <td>4363.000000</td>\n",
       "      <td>4363.000000</td>\n",
       "      <td>4362.000000</td>\n",
       "      <td>4356.000000</td>\n",
       "      <td>4352.000000</td>\n",
       "      <td>4355.000000</td>\n",
       "    </tr>\n",
       "    <tr>\n",
       "      <th>mean</th>\n",
       "      <td>0.672001</td>\n",
       "      <td>0.327999</td>\n",
       "      <td>1.0</td>\n",
       "      <td>1.803044</td>\n",
       "      <td>1.381826</td>\n",
       "      <td>1.134736</td>\n",
       "      <td>0.928380</td>\n",
       "      <td>-183.024624</td>\n",
       "      <td>7.953381</td>\n",
       "      <td>7.905157</td>\n",
       "      <td>3.880972</td>\n",
       "      <td>189.479603</td>\n",
       "      <td>3.264792</td>\n",
       "      <td>0.584386</td>\n",
       "    </tr>\n",
       "    <tr>\n",
       "      <th>std</th>\n",
       "      <td>0.138378</td>\n",
       "      <td>0.138378</td>\n",
       "      <td>0.0</td>\n",
       "      <td>1.010653</td>\n",
       "      <td>0.914843</td>\n",
       "      <td>1.044873</td>\n",
       "      <td>1.205268</td>\n",
       "      <td>29.856081</td>\n",
       "      <td>0.413903</td>\n",
       "      <td>1.585273</td>\n",
       "      <td>0.158661</td>\n",
       "      <td>11.372316</td>\n",
       "      <td>4.822863</td>\n",
       "      <td>0.564152</td>\n",
       "    </tr>\n",
       "    <tr>\n",
       "      <th>min</th>\n",
       "      <td>0.375000</td>\n",
       "      <td>0.062500</td>\n",
       "      <td>1.0</td>\n",
       "      <td>0.000000</td>\n",
       "      <td>0.000000</td>\n",
       "      <td>0.000000</td>\n",
       "      <td>0.000000</td>\n",
       "      <td>-229.556643</td>\n",
       "      <td>7.500000</td>\n",
       "      <td>5.800000</td>\n",
       "      <td>3.600000</td>\n",
       "      <td>163.931000</td>\n",
       "      <td>-3.180000</td>\n",
       "      <td>0.000000</td>\n",
       "    </tr>\n",
       "    <tr>\n",
       "      <th>25%</th>\n",
       "      <td>0.562500</td>\n",
       "      <td>0.187500</td>\n",
       "      <td>1.0</td>\n",
       "      <td>1.000000</td>\n",
       "      <td>1.000000</td>\n",
       "      <td>0.000000</td>\n",
       "      <td>0.000000</td>\n",
       "      <td>-207.682229</td>\n",
       "      <td>7.500000</td>\n",
       "      <td>6.300000</td>\n",
       "      <td>3.700000</td>\n",
       "      <td>183.023000</td>\n",
       "      <td>0.000000</td>\n",
       "      <td>0.000000</td>\n",
       "    </tr>\n",
       "    <tr>\n",
       "      <th>50%</th>\n",
       "      <td>0.687500</td>\n",
       "      <td>0.312500</td>\n",
       "      <td>1.0</td>\n",
       "      <td>2.000000</td>\n",
       "      <td>1.000000</td>\n",
       "      <td>1.000000</td>\n",
       "      <td>0.000000</td>\n",
       "      <td>-189.806722</td>\n",
       "      <td>7.900000</td>\n",
       "      <td>8.400000</td>\n",
       "      <td>3.900000</td>\n",
       "      <td>189.222000</td>\n",
       "      <td>0.038000</td>\n",
       "      <td>1.000000</td>\n",
       "    </tr>\n",
       "    <tr>\n",
       "      <th>75%</th>\n",
       "      <td>0.812500</td>\n",
       "      <td>0.437500</td>\n",
       "      <td>1.0</td>\n",
       "      <td>2.000000</td>\n",
       "      <td>2.000000</td>\n",
       "      <td>2.000000</td>\n",
       "      <td>2.000000</td>\n",
       "      <td>-151.251283</td>\n",
       "      <td>8.500000</td>\n",
       "      <td>9.500000</td>\n",
       "      <td>4.000000</td>\n",
       "      <td>198.026500</td>\n",
       "      <td>5.784250</td>\n",
       "      <td>1.000000</td>\n",
       "    </tr>\n",
       "    <tr>\n",
       "      <th>max</th>\n",
       "      <td>0.937500</td>\n",
       "      <td>0.625000</td>\n",
       "      <td>1.0</td>\n",
       "      <td>4.000000</td>\n",
       "      <td>4.000000</td>\n",
       "      <td>4.000000</td>\n",
       "      <td>4.000000</td>\n",
       "      <td>186.624000</td>\n",
       "      <td>8.500000</td>\n",
       "      <td>10.400000</td>\n",
       "      <td>4.200000</td>\n",
       "      <td>216.692000</td>\n",
       "      <td>23.748000</td>\n",
       "      <td>2.000000</td>\n",
       "    </tr>\n",
       "  </tbody>\n",
       "</table>\n",
       "</div>"
      ],
      "text/plain": [
       "                 x            y       z           S1           S2  \\\n",
       "count  4468.000000  4468.000000  4468.0  4468.000000  4468.000000   \n",
       "mean      0.672001     0.327999     1.0     1.803044     1.381826   \n",
       "std       0.138378     0.138378     0.0     1.010653     0.914843   \n",
       "min       0.375000     0.062500     1.0     0.000000     0.000000   \n",
       "25%       0.562500     0.187500     1.0     1.000000     1.000000   \n",
       "50%       0.687500     0.312500     1.0     2.000000     1.000000   \n",
       "75%       0.812500     0.437500     1.0     2.000000     2.000000   \n",
       "max       0.937500     0.625000     1.0     4.000000     4.000000   \n",
       "\n",
       "                S3           S4       Energy     Av_chg_x     Av_chg_y  \\\n",
       "count  4468.000000  4468.000000  4356.000000  4363.000000  4363.000000   \n",
       "mean      1.134736     0.928380  -183.024624     7.953381     7.905157   \n",
       "std       1.044873     1.205268    29.856081     0.413903     1.585273   \n",
       "min       0.000000     0.000000  -229.556643     7.500000     5.800000   \n",
       "25%       0.000000     0.000000  -207.682229     7.500000     6.300000   \n",
       "50%       1.000000     0.000000  -189.806722     7.900000     8.400000   \n",
       "75%       2.000000     2.000000  -151.251283     8.500000     9.500000   \n",
       "max       4.000000     4.000000   186.624000     8.500000    10.400000   \n",
       "\n",
       "         Avg_chg_z       Charge            M        state  \n",
       "count  4362.000000  4356.000000  4352.000000  4355.000000  \n",
       "mean      3.880972   189.479603     3.264792     0.584386  \n",
       "std       0.158661    11.372316     4.822863     0.564152  \n",
       "min       3.600000   163.931000    -3.180000     0.000000  \n",
       "25%       3.700000   183.023000     0.000000     0.000000  \n",
       "50%       3.900000   189.222000     0.038000     1.000000  \n",
       "75%       4.000000   198.026500     5.784250     1.000000  \n",
       "max       4.200000   216.692000    23.748000     2.000000  "
      ]
     },
     "execution_count": 4,
     "metadata": {},
     "output_type": "execute_result"
    }
   ],
   "source": [
    "# explainatory statistics of data\n",
    "df_raw.describe()"
   ]
  },
  {
   "cell_type": "code",
   "execution_count": 5,
   "id": "7f944c0b-e8f4-487b-919f-076960365ce8",
   "metadata": {
    "scrolled": true
   },
   "outputs": [
    {
     "name": "stdout",
     "output_type": "stream",
     "text": [
      "Ax_By_Cz       0\n",
      "A              0\n",
      "B              0\n",
      "C              0\n",
      "x              0\n",
      "y              0\n",
      "z              0\n",
      "structure      0\n",
      "S1             0\n",
      "S2             0\n",
      "S3             0\n",
      "S4             0\n",
      "Energy       112\n",
      "Av_chg_x     105\n",
      "Av_chg_y     105\n",
      "Avg_chg_z    106\n",
      "Charge       112\n",
      "M            116\n",
      "state        113\n",
      "dtype: int64\n"
     ]
    }
   ],
   "source": [
    "# check and drop for null values\n",
    "print(df_raw.isna().sum())\n",
    "df_raw = df_raw.dropna(how='any')"
   ]
  },
  {
   "cell_type": "code",
   "execution_count": 6,
   "id": "513c6cdd-57e5-481d-868b-0b27362666c0",
   "metadata": {
    "scrolled": true
   },
   "outputs": [],
   "source": [
    "# create dataframe using only required columns\n",
    "df =df_raw[['A', 'B', 'C', 'x', 'y', 'z', 'structure', 'M']]"
   ]
  },
  {
   "cell_type": "code",
   "execution_count": 7,
   "id": "f2c0203b-8d53-4b78-9cb9-ebe9d4b98c79",
   "metadata": {
    "scrolled": true
   },
   "outputs": [],
   "source": [
    "def count_sub_trans(structure,s_value):\n",
    "    \"\"\"\n",
    "    Description: Counts the substituted transition metal atoms on the atomic sides S1, S2, S3 and, S4 \n",
    "    Input: \n",
    "        structure - Number of substituted atoms, ranges from 1 to 16 \n",
    "        s_value - Atomic sites: 1 for S1, 2 for S2, 3 for S3 and, 4 for S4\n",
    "    Returns: \n",
    "        the total number of substituted transition metal atoms on sites S1, S2, S3, S4\n",
    "    \"\"\"\n",
    "    \n",
    "    # convert list of string to int\n",
    "    if structure[-1] == ',':\n",
    "        structure = structure[:-1]\n",
    "        \n",
    "    st = structure.split(',')\n",
    "    structure = [int(i) for i in st]\n",
    "    if s_value == 1:\n",
    "        S1 = sum([int(e<=4 and e>=1) for e in structure])\n",
    "        return S1\n",
    "    elif s_value==2:\n",
    "        S2 = sum([int(e<=8 and e>=5) for e in structure])\n",
    "        return S2\n",
    "    elif s_value==3:\n",
    "        S3 = sum([int(e<=12 and e>=9) for e in structure])\n",
    "        return S3\n",
    "    else:\n",
    "        S4 = sum([int(e<=16 and e>=13) for e in structure])\n",
    "        return S4"
   ]
  },
  {
   "cell_type": "code",
   "execution_count": 8,
   "id": "86829884-25b0-41e0-b817-c0344b3dae0a",
   "metadata": {
    "collapsed": true
   },
   "outputs": [
    {
     "name": "stderr",
     "output_type": "stream",
     "text": [
      "C:\\Users\\dhanu\\AppData\\Local\\Temp\\ipykernel_26224\\1263416670.py:2: SettingWithCopyWarning: \n",
      "A value is trying to be set on a copy of a slice from a DataFrame.\n",
      "Try using .loc[row_indexer,col_indexer] = value instead\n",
      "\n",
      "See the caveats in the documentation: https://pandas.pydata.org/pandas-docs/stable/user_guide/indexing.html#returning-a-view-versus-a-copy\n",
      "  df['S1'] = df['structure'].apply(count_sub_trans, s_value = 1)\n",
      "C:\\Users\\dhanu\\AppData\\Local\\Temp\\ipykernel_26224\\1263416670.py:3: SettingWithCopyWarning: \n",
      "A value is trying to be set on a copy of a slice from a DataFrame.\n",
      "Try using .loc[row_indexer,col_indexer] = value instead\n",
      "\n",
      "See the caveats in the documentation: https://pandas.pydata.org/pandas-docs/stable/user_guide/indexing.html#returning-a-view-versus-a-copy\n",
      "  df['S2'] = df['structure'].apply(count_sub_trans, s_value = 2)\n",
      "C:\\Users\\dhanu\\AppData\\Local\\Temp\\ipykernel_26224\\1263416670.py:4: SettingWithCopyWarning: \n",
      "A value is trying to be set on a copy of a slice from a DataFrame.\n",
      "Try using .loc[row_indexer,col_indexer] = value instead\n",
      "\n",
      "See the caveats in the documentation: https://pandas.pydata.org/pandas-docs/stable/user_guide/indexing.html#returning-a-view-versus-a-copy\n",
      "  df['S3'] = df['structure'].apply(count_sub_trans, s_value = 3)\n",
      "C:\\Users\\dhanu\\AppData\\Local\\Temp\\ipykernel_26224\\1263416670.py:5: SettingWithCopyWarning: \n",
      "A value is trying to be set on a copy of a slice from a DataFrame.\n",
      "Try using .loc[row_indexer,col_indexer] = value instead\n",
      "\n",
      "See the caveats in the documentation: https://pandas.pydata.org/pandas-docs/stable/user_guide/indexing.html#returning-a-view-versus-a-copy\n",
      "  df['S4'] = df['structure'].apply(count_sub_trans, s_value = 4)\n"
     ]
    }
   ],
   "source": [
    "# apply count_sub_trans function to create new features: S1, S2, S3, S4\n",
    "df['S1'] = df['structure'].apply(count_sub_trans, s_value = 1)\n",
    "df['S2'] = df['structure'].apply(count_sub_trans, s_value = 2)\n",
    "df['S3'] = df['structure'].apply(count_sub_trans, s_value = 3)\n",
    "df['S4'] = df['structure'].apply(count_sub_trans, s_value = 4)"
   ]
  },
  {
   "cell_type": "code",
   "execution_count": 9,
   "id": "e61ea2a8",
   "metadata": {
    "scrolled": true
   },
   "outputs": [
    {
     "name": "stdout",
     "output_type": "stream",
     "text": [
      "<class 'pandas.core.frame.DataFrame'>\n",
      "Int64Index: 4348 entries, 0 to 4467\n",
      "Data columns (total 12 columns):\n",
      " #   Column     Non-Null Count  Dtype  \n",
      "---  ------     --------------  -----  \n",
      " 0   A          4348 non-null   object \n",
      " 1   B          4348 non-null   object \n",
      " 2   C          4348 non-null   object \n",
      " 3   x          4348 non-null   float64\n",
      " 4   y          4348 non-null   float64\n",
      " 5   z          4348 non-null   int64  \n",
      " 6   structure  4348 non-null   object \n",
      " 7   M          4348 non-null   float64\n",
      " 8   S1         4348 non-null   int64  \n",
      " 9   S2         4348 non-null   int64  \n",
      " 10  S3         4348 non-null   int64  \n",
      " 11  S4         4348 non-null   int64  \n",
      "dtypes: float64(3), int64(5), object(4)\n",
      "memory usage: 441.6+ KB\n"
     ]
    }
   ],
   "source": [
    "df.info()"
   ]
  },
  {
   "cell_type": "code",
   "execution_count": 10,
   "id": "e34c9f37",
   "metadata": {
    "scrolled": false
   },
   "outputs": [
    {
     "data": {
      "text/plain": [
       "Text(0.5, 1.0, 'Histogram of features')"
      ]
     },
     "execution_count": 10,
     "metadata": {},
     "output_type": "execute_result"
    },
    {
     "data": {
      "image/png": "[encoded data removed]",
      "text/plain": [
       "<Figure size 720x576 with 9 Axes>"
      ]
     },
     "metadata": {
      "needs_background": "light"
     },
     "output_type": "display_data"
    }
   ],
   "source": [
    "# distribution of data\n",
    "df.hist(bins=20, figsize=(10,8))\n",
    "plt.tight_layout()\n",
    "plt.title(\"Histogram of features\")"
   ]
  },
  {
   "cell_type": "code",
   "execution_count": 11,
   "id": "ce19027a",
   "metadata": {
    "scrolled": false
   },
   "outputs": [
    {
     "data": {
      "image/png": "[encoded data removed]",
      "text/plain": [
       "<Figure size 432x288 with 1 Axes>"
      ]
     },
     "metadata": {
      "needs_background": "light"
     },
     "output_type": "display_data"
    },
    {
     "data": {
      "image/png": "[encoded data removed]",
      "text/plain": [
       "<Figure size 432x288 with 1 Axes>"
      ]
     },
     "metadata": {
      "needs_background": "light"
     },
     "output_type": "display_data"
    },
    {
     "data": {
      "image/png": "[encoded data removed]",
      "text/plain": [
       "<Figure size 432x288 with 1 Axes>"
      ]
     },
     "metadata": {
      "needs_background": "light"
     },
     "output_type": "display_data"
    },
    {
     "data": {
      "image/png": "[encoded data removed]",
      "text/plain": [
       "<Figure size 432x288 with 1 Axes>"
      ]
     },
     "metadata": {
      "needs_background": "light"
     },
     "output_type": "display_data"
    },
    {
     "data": {
      "image/png": "[encoded data removed]",
      "text/plain": [
       "<Figure size 432x288 with 1 Axes>"
      ]
     },
     "metadata": {
      "needs_background": "light"
     },
     "output_type": "display_data"
    },
    {
     "data": {
      "image/png": "[encoded data removed]",
      "text/plain": [
       "<Figure size 432x288 with 1 Axes>"
      ]
     },
     "metadata": {
      "needs_background": "light"
     },
     "output_type": "display_data"
    },
    {
     "data": {
      "image/png": "[encoded data removed]",
      "text/plain": [
       "<Figure size 432x288 with 1 Axes>"
      ]
     },
     "metadata": {
      "needs_background": "light"
     },
     "output_type": "display_data"
    },
    {
     "data": {
      "image/png": "[encoded data removed]",
      "text/plain": [
       "<Figure size 432x288 with 1 Axes>"
      ]
     },
     "metadata": {
      "needs_background": "light"
     },
     "output_type": "display_data"
    },
    {
     "data": {
      "image/png": "[encoded data removed]",
      "text/plain": [
       "<Figure size 432x288 with 1 Axes>"
      ]
     },
     "metadata": {
      "needs_background": "light"
     },
     "output_type": "display_data"
    },
    {
     "data": {
      "image/png": "[encoded data removed]",
      "text/plain": [
       "<Figure size 432x288 with 1 Axes>"
      ]
     },
     "metadata": {
      "needs_background": "light"
     },
     "output_type": "display_data"
    },
    {
     "data": {
      "image/png": "[encoded data removed]",
      "text/plain": [
       "<Figure size 432x288 with 1 Axes>"
      ]
     },
     "metadata": {
      "needs_background": "light"
     },
     "output_type": "display_data"
    },
    {
     "data": {
      "image/png": "[encoded data removed]",
      "text/plain": [
       "<Figure size 432x288 with 1 Axes>"
      ]
     },
     "metadata": {
      "needs_background": "light"
     },
     "output_type": "display_data"
    }
   ],
   "source": [
    "# Magnetization vs Fe-concentraion Scatter plot for different combinations of metal chalcogenides\n",
    "for i in [\"Ni\", \"Co\", \"Cr\", \"Mn\"]:\n",
    "    for j in [\"S\", \"Se\", \"Te\"]:\n",
    "        df_BC = df[(df[\"B\"]==i) & (df[\"C\"]==j)]\n",
    "        Fe_x = df_BC[\"x\"]\n",
    "        mag = df_BC[\"M\"]\n",
    "        title = (\"Fe\", i, j)\n",
    "        plt.scatter(Fe_x, mag, marker='o', c='r')\n",
    "        plt.title(title, fontsize=12)\n",
    "        plt.xlabel('Fe-concentration', fontsize= 12)\n",
    "        plt.ylabel('Magnetization (\\u03BCB)', fontsize =12)\n",
    "        plt.show()"
   ]
  },
  {
   "cell_type": "markdown",
   "id": "d7cb8f43",
   "metadata": {},
   "source": [
    "### Overall variation of magnetization with Fe-concentration\n"
   ]
  },
  {
   "cell_type": "code",
   "execution_count": 12,
   "id": "6d9e69ec",
   "metadata": {
    "scrolled": true
   },
   "outputs": [
    {
     "data": {
      "text/plain": [
       "Text(0, 0.5, 'Average Magnetzation with the concentration of Fe')"
      ]
     },
     "execution_count": 12,
     "metadata": {},
     "output_type": "execute_result"
    },
    {
     "data": {
      "image/png": "[encoded data removed]",
      "text/plain": [
       "<Figure size 432x288 with 1 Axes>"
      ]
     },
     "metadata": {
      "needs_background": "light"
     },
     "output_type": "display_data"
    }
   ],
   "source": [
    "## Overall variation of magnetization with Fe-concentration\n",
    "df_fe =df[['x','M']].groupby(['x'], as_index=False).mean()\n",
    "plt.plot(df_fe['x'], df_fe['M'])\n",
    "plt.xlabel(\"Fe-concentration\", fontsize=12)\n",
    "plt.ylabel(\"Average Magnetzation with the concentration of Fe\")"
   ]
  },
  {
   "cell_type": "markdown",
   "id": "aeade777",
   "metadata": {},
   "source": [
    "### Varitation of magnetization with differnt combinations of transition metal and chalcogens"
   ]
  },
  {
   "cell_type": "code",
   "execution_count": 13,
   "id": "e0c882c5",
   "metadata": {},
   "outputs": [
    {
     "data": {
      "text/plain": [
       "<matplotlib.legend.Legend at 0x1cade48b0a0>"
      ]
     },
     "execution_count": 13,
     "metadata": {},
     "output_type": "execute_result"
    },
    {
     "data": {
      "image/png": "[encoded data removed]",
      "text/plain": [
       "<Figure size 432x288 with 1 Axes>"
      ]
     },
     "metadata": {
      "needs_background": "light"
     },
     "output_type": "display_data"
    }
   ],
   "source": [
    "# magnetization vs transtion metal with different chalcogen combinations\n",
    "plt.figure()\n",
    "sns.boxplot(data=df, x='B',y='M', hue ='C', palette='Set2_r')\n",
    "plt.xlabel(\"Transition metal\")\n",
    "plt.ylabel(\"Magnetization\")\n",
    "plt.xticks(fontsize = 12)\n",
    "plt.yticks(fontsize = 12)\n",
    "plt.legend(title='Chalcogen')"
   ]
  },
  {
   "cell_type": "code",
   "execution_count": 14,
   "id": "7ca0139c",
   "metadata": {
    "scrolled": true
   },
   "outputs": [
    {
     "data": {
      "text/plain": [
       "<matplotlib.legend.Legend at 0x1cade5e4190>"
      ]
     },
     "execution_count": 14,
     "metadata": {},
     "output_type": "execute_result"
    },
    {
     "data": {
      "image/png": "[encoded data removed]",
      "text/plain": [
       "<Figure size 432x288 with 1 Axes>"
      ]
     },
     "metadata": {
      "needs_background": "light"
     },
     "output_type": "display_data"
    }
   ],
   "source": [
    "## magnetization vs Chalcogens with different metal comibination\n",
    "plt.figure()\n",
    "sns.boxplot(data=df, x='C',y='M', hue ='B', palette='Set1')\n",
    "plt.xlabel(\"Chalcogen\")\n",
    "plt.ylabel(\"Magnetization\")\n",
    "plt.xticks(fontsize = 12)\n",
    "plt.yticks(fontsize = 12)\n",
    "plt.legend(title='Transition metal')"
   ]
  },
  {
   "cell_type": "markdown",
   "id": "70d77d5d-7e17-40c2-a84b-339c59ce8c47",
   "metadata": {},
   "source": [
    "### Convert into new columns"
   ]
  },
  {
   "cell_type": "code",
   "execution_count": 15,
   "id": "c9620af9-0ed5-43ef-9d45-16927e9d7b7c",
   "metadata": {
    "collapsed": true
   },
   "outputs": [
    {
     "name": "stderr",
     "output_type": "stream",
     "text": [
      "C:\\Users\\dhanu\\AppData\\Local\\Temp\\ipykernel_26224\\567314695.py:2: SettingWithCopyWarning: \n",
      "A value is trying to be set on a copy of a slice from a DataFrame.\n",
      "Try using .loc[row_indexer,col_indexer] = value instead\n",
      "\n",
      "See the caveats in the documentation: https://pandas.pydata.org/pandas-docs/stable/user_guide/indexing.html#returning-a-view-versus-a-copy\n",
      "  df['Ni'] = df.apply(lambda x: x['y'] if x['B'] == 'Ni' else 0, axis=1)\n",
      "C:\\Users\\dhanu\\AppData\\Local\\Temp\\ipykernel_26224\\567314695.py:3: SettingWithCopyWarning: \n",
      "A value is trying to be set on a copy of a slice from a DataFrame.\n",
      "Try using .loc[row_indexer,col_indexer] = value instead\n",
      "\n",
      "See the caveats in the documentation: https://pandas.pydata.org/pandas-docs/stable/user_guide/indexing.html#returning-a-view-versus-a-copy\n",
      "  df['Co'] = df.apply(lambda x: x['y'] if x['B'] == 'Co' else 0, axis=1)\n",
      "C:\\Users\\dhanu\\AppData\\Local\\Temp\\ipykernel_26224\\567314695.py:4: SettingWithCopyWarning: \n",
      "A value is trying to be set on a copy of a slice from a DataFrame.\n",
      "Try using .loc[row_indexer,col_indexer] = value instead\n",
      "\n",
      "See the caveats in the documentation: https://pandas.pydata.org/pandas-docs/stable/user_guide/indexing.html#returning-a-view-versus-a-copy\n",
      "  df['Cr'] = df.apply(lambda x: x['y'] if x['B'] == 'Cr' else 0, axis=1)\n",
      "C:\\Users\\dhanu\\AppData\\Local\\Temp\\ipykernel_26224\\567314695.py:5: SettingWithCopyWarning: \n",
      "A value is trying to be set on a copy of a slice from a DataFrame.\n",
      "Try using .loc[row_indexer,col_indexer] = value instead\n",
      "\n",
      "See the caveats in the documentation: https://pandas.pydata.org/pandas-docs/stable/user_guide/indexing.html#returning-a-view-versus-a-copy\n",
      "  df['Mn'] = df.apply(lambda x: x['y'] if x['B'] == 'Mn' else 0, axis=1)\n",
      "C:\\Users\\dhanu\\AppData\\Local\\Temp\\ipykernel_26224\\567314695.py:7: SettingWithCopyWarning: \n",
      "A value is trying to be set on a copy of a slice from a DataFrame.\n",
      "Try using .loc[row_indexer,col_indexer] = value instead\n",
      "\n",
      "See the caveats in the documentation: https://pandas.pydata.org/pandas-docs/stable/user_guide/indexing.html#returning-a-view-versus-a-copy\n",
      "  df['Se'] = df.apply(lambda x: 1 if x['C'] == 'Se' else 0, axis=1)\n",
      "C:\\Users\\dhanu\\AppData\\Local\\Temp\\ipykernel_26224\\567314695.py:8: SettingWithCopyWarning: \n",
      "A value is trying to be set on a copy of a slice from a DataFrame.\n",
      "Try using .loc[row_indexer,col_indexer] = value instead\n",
      "\n",
      "See the caveats in the documentation: https://pandas.pydata.org/pandas-docs/stable/user_guide/indexing.html#returning-a-view-versus-a-copy\n",
      "  df['S'] = df.apply(lambda x: 1 if x['C'] == 'S' else 0, axis=1)\n"
     ]
    }
   ],
   "source": [
    "# create new features to replace categorical data\n",
    "df['Ni'] = df.apply(lambda x: x['y'] if x['B'] == 'Ni' else 0, axis=1)\n",
    "df['Co'] = df.apply(lambda x: x['y'] if x['B'] == 'Co' else 0, axis=1)\n",
    "df['Cr'] = df.apply(lambda x: x['y'] if x['B'] == 'Cr' else 0, axis=1)\n",
    "df['Mn'] = df.apply(lambda x: x['y'] if x['B'] == 'Mn' else 0, axis=1)\n",
    "\n",
    "df['Se'] = df.apply(lambda x: 1 if x['C'] == 'Se' else 0, axis=1)\n",
    "df['S'] = df.apply(lambda x: 1 if x['C'] == 'S' else 0, axis=1)\n",
    "df['Te'] = df.apply(lambda x: 1 if x['C'] == 'Te' else 0, axis=1)\n",
    "\n",
    "df = df.rename(columns = {'x':'Fe'})"
   ]
  },
  {
   "cell_type": "code",
   "execution_count": 16,
   "id": "33e5b6e1",
   "metadata": {},
   "outputs": [
    {
     "data": {
      "text/html": [
       "<div>\n",
       "<style scoped>\n",
       "    .dataframe tbody tr th:only-of-type {\n",
       "        vertical-align: middle;\n",
       "    }\n",
       "\n",
       "    .dataframe tbody tr th {\n",
       "        vertical-align: top;\n",
       "    }\n",
       "\n",
       "    .dataframe thead th {\n",
       "        text-align: right;\n",
       "    }\n",
       "</style>\n",
       "<table border=\"1\" class=\"dataframe\">\n",
       "  <thead>\n",
       "    <tr style=\"text-align: right;\">\n",
       "      <th></th>\n",
       "      <th>A</th>\n",
       "      <th>B</th>\n",
       "      <th>C</th>\n",
       "      <th>Fe</th>\n",
       "      <th>y</th>\n",
       "      <th>z</th>\n",
       "      <th>structure</th>\n",
       "      <th>M</th>\n",
       "      <th>S1</th>\n",
       "      <th>S2</th>\n",
       "      <th>S3</th>\n",
       "      <th>S4</th>\n",
       "      <th>Ni</th>\n",
       "      <th>Co</th>\n",
       "      <th>Cr</th>\n",
       "      <th>Mn</th>\n",
       "      <th>Se</th>\n",
       "      <th>S</th>\n",
       "      <th>Te</th>\n",
       "    </tr>\n",
       "  </thead>\n",
       "  <tbody>\n",
       "    <tr>\n",
       "      <th>0</th>\n",
       "      <td>Fe</td>\n",
       "      <td>Ni</td>\n",
       "      <td>S</td>\n",
       "      <td>0.9375</td>\n",
       "      <td>0.0625</td>\n",
       "      <td>1</td>\n",
       "      <td>1,</td>\n",
       "      <td>4.799</td>\n",
       "      <td>1</td>\n",
       "      <td>0</td>\n",
       "      <td>0</td>\n",
       "      <td>0</td>\n",
       "      <td>0.0625</td>\n",
       "      <td>0.0</td>\n",
       "      <td>0.0</td>\n",
       "      <td>0.0</td>\n",
       "      <td>0</td>\n",
       "      <td>1</td>\n",
       "      <td>0</td>\n",
       "    </tr>\n",
       "    <tr>\n",
       "      <th>1</th>\n",
       "      <td>Fe</td>\n",
       "      <td>Ni</td>\n",
       "      <td>S</td>\n",
       "      <td>0.8750</td>\n",
       "      <td>0.1250</td>\n",
       "      <td>1</td>\n",
       "      <td>1,2</td>\n",
       "      <td>2.827</td>\n",
       "      <td>2</td>\n",
       "      <td>0</td>\n",
       "      <td>0</td>\n",
       "      <td>0</td>\n",
       "      <td>0.1250</td>\n",
       "      <td>0.0</td>\n",
       "      <td>0.0</td>\n",
       "      <td>0.0</td>\n",
       "      <td>0</td>\n",
       "      <td>1</td>\n",
       "      <td>0</td>\n",
       "    </tr>\n",
       "    <tr>\n",
       "      <th>2</th>\n",
       "      <td>Fe</td>\n",
       "      <td>Ni</td>\n",
       "      <td>S</td>\n",
       "      <td>0.8750</td>\n",
       "      <td>0.1250</td>\n",
       "      <td>1</td>\n",
       "      <td>1,3</td>\n",
       "      <td>3.747</td>\n",
       "      <td>2</td>\n",
       "      <td>0</td>\n",
       "      <td>0</td>\n",
       "      <td>0</td>\n",
       "      <td>0.1250</td>\n",
       "      <td>0.0</td>\n",
       "      <td>0.0</td>\n",
       "      <td>0.0</td>\n",
       "      <td>0</td>\n",
       "      <td>1</td>\n",
       "      <td>0</td>\n",
       "    </tr>\n",
       "    <tr>\n",
       "      <th>3</th>\n",
       "      <td>Fe</td>\n",
       "      <td>Ni</td>\n",
       "      <td>S</td>\n",
       "      <td>0.8750</td>\n",
       "      <td>0.1250</td>\n",
       "      <td>1</td>\n",
       "      <td>1,4</td>\n",
       "      <td>2.652</td>\n",
       "      <td>2</td>\n",
       "      <td>0</td>\n",
       "      <td>0</td>\n",
       "      <td>0</td>\n",
       "      <td>0.1250</td>\n",
       "      <td>0.0</td>\n",
       "      <td>0.0</td>\n",
       "      <td>0.0</td>\n",
       "      <td>0</td>\n",
       "      <td>1</td>\n",
       "      <td>0</td>\n",
       "    </tr>\n",
       "    <tr>\n",
       "      <th>4</th>\n",
       "      <td>Fe</td>\n",
       "      <td>Ni</td>\n",
       "      <td>S</td>\n",
       "      <td>0.8750</td>\n",
       "      <td>0.1250</td>\n",
       "      <td>1</td>\n",
       "      <td>1,5</td>\n",
       "      <td>3.178</td>\n",
       "      <td>1</td>\n",
       "      <td>1</td>\n",
       "      <td>0</td>\n",
       "      <td>0</td>\n",
       "      <td>0.1250</td>\n",
       "      <td>0.0</td>\n",
       "      <td>0.0</td>\n",
       "      <td>0.0</td>\n",
       "      <td>0</td>\n",
       "      <td>1</td>\n",
       "      <td>0</td>\n",
       "    </tr>\n",
       "  </tbody>\n",
       "</table>\n",
       "</div>"
      ],
      "text/plain": [
       "    A   B  C      Fe       y  z structure      M  S1  S2  S3  S4      Ni   Co  \\\n",
       "0  Fe  Ni  S  0.9375  0.0625  1        1,  4.799   1   0   0   0  0.0625  0.0   \n",
       "1  Fe  Ni  S  0.8750  0.1250  1       1,2  2.827   2   0   0   0  0.1250  0.0   \n",
       "2  Fe  Ni  S  0.8750  0.1250  1       1,3  3.747   2   0   0   0  0.1250  0.0   \n",
       "3  Fe  Ni  S  0.8750  0.1250  1       1,4  2.652   2   0   0   0  0.1250  0.0   \n",
       "4  Fe  Ni  S  0.8750  0.1250  1       1,5  3.178   1   1   0   0  0.1250  0.0   \n",
       "\n",
       "    Cr   Mn  Se  S  Te  \n",
       "0  0.0  0.0   0  1   0  \n",
       "1  0.0  0.0   0  1   0  \n",
       "2  0.0  0.0   0  1   0  \n",
       "3  0.0  0.0   0  1   0  \n",
       "4  0.0  0.0   0  1   0  "
      ]
     },
     "execution_count": 16,
     "metadata": {},
     "output_type": "execute_result"
    }
   ],
   "source": [
    "#dataframe with new columns\n",
    "df.head()"
   ]
  },
  {
   "cell_type": "code",
   "execution_count": 17,
   "id": "00879872-9a87-4223-a81a-6fef76b6783a",
   "metadata": {
    "scrolled": true
   },
   "outputs": [
    {
     "data": {
      "text/html": [
       "<div>\n",
       "<style scoped>\n",
       "    .dataframe tbody tr th:only-of-type {\n",
       "        vertical-align: middle;\n",
       "    }\n",
       "\n",
       "    .dataframe tbody tr th {\n",
       "        vertical-align: top;\n",
       "    }\n",
       "\n",
       "    .dataframe thead th {\n",
       "        text-align: right;\n",
       "    }\n",
       "</style>\n",
       "<table border=\"1\" class=\"dataframe\">\n",
       "  <thead>\n",
       "    <tr style=\"text-align: right;\">\n",
       "      <th></th>\n",
       "      <th>Fe</th>\n",
       "      <th>M</th>\n",
       "      <th>S1</th>\n",
       "      <th>S2</th>\n",
       "      <th>S3</th>\n",
       "      <th>S4</th>\n",
       "      <th>Ni</th>\n",
       "      <th>Co</th>\n",
       "      <th>Cr</th>\n",
       "      <th>Mn</th>\n",
       "      <th>Se</th>\n",
       "      <th>S</th>\n",
       "      <th>Te</th>\n",
       "    </tr>\n",
       "  </thead>\n",
       "  <tbody>\n",
       "    <tr>\n",
       "      <th>0</th>\n",
       "      <td>0.9375</td>\n",
       "      <td>4.799</td>\n",
       "      <td>1</td>\n",
       "      <td>0</td>\n",
       "      <td>0</td>\n",
       "      <td>0</td>\n",
       "      <td>0.0625</td>\n",
       "      <td>0.0</td>\n",
       "      <td>0.0</td>\n",
       "      <td>0.0</td>\n",
       "      <td>0</td>\n",
       "      <td>1</td>\n",
       "      <td>0</td>\n",
       "    </tr>\n",
       "    <tr>\n",
       "      <th>1</th>\n",
       "      <td>0.8750</td>\n",
       "      <td>2.827</td>\n",
       "      <td>2</td>\n",
       "      <td>0</td>\n",
       "      <td>0</td>\n",
       "      <td>0</td>\n",
       "      <td>0.1250</td>\n",
       "      <td>0.0</td>\n",
       "      <td>0.0</td>\n",
       "      <td>0.0</td>\n",
       "      <td>0</td>\n",
       "      <td>1</td>\n",
       "      <td>0</td>\n",
       "    </tr>\n",
       "    <tr>\n",
       "      <th>2</th>\n",
       "      <td>0.8750</td>\n",
       "      <td>3.747</td>\n",
       "      <td>2</td>\n",
       "      <td>0</td>\n",
       "      <td>0</td>\n",
       "      <td>0</td>\n",
       "      <td>0.1250</td>\n",
       "      <td>0.0</td>\n",
       "      <td>0.0</td>\n",
       "      <td>0.0</td>\n",
       "      <td>0</td>\n",
       "      <td>1</td>\n",
       "      <td>0</td>\n",
       "    </tr>\n",
       "    <tr>\n",
       "      <th>3</th>\n",
       "      <td>0.8750</td>\n",
       "      <td>2.652</td>\n",
       "      <td>2</td>\n",
       "      <td>0</td>\n",
       "      <td>0</td>\n",
       "      <td>0</td>\n",
       "      <td>0.1250</td>\n",
       "      <td>0.0</td>\n",
       "      <td>0.0</td>\n",
       "      <td>0.0</td>\n",
       "      <td>0</td>\n",
       "      <td>1</td>\n",
       "      <td>0</td>\n",
       "    </tr>\n",
       "    <tr>\n",
       "      <th>4</th>\n",
       "      <td>0.8750</td>\n",
       "      <td>3.178</td>\n",
       "      <td>1</td>\n",
       "      <td>1</td>\n",
       "      <td>0</td>\n",
       "      <td>0</td>\n",
       "      <td>0.1250</td>\n",
       "      <td>0.0</td>\n",
       "      <td>0.0</td>\n",
       "      <td>0.0</td>\n",
       "      <td>0</td>\n",
       "      <td>1</td>\n",
       "      <td>0</td>\n",
       "    </tr>\n",
       "  </tbody>\n",
       "</table>\n",
       "</div>"
      ],
      "text/plain": [
       "       Fe      M  S1  S2  S3  S4      Ni   Co   Cr   Mn  Se  S  Te\n",
       "0  0.9375  4.799   1   0   0   0  0.0625  0.0  0.0  0.0   0  1   0\n",
       "1  0.8750  2.827   2   0   0   0  0.1250  0.0  0.0  0.0   0  1   0\n",
       "2  0.8750  3.747   2   0   0   0  0.1250  0.0  0.0  0.0   0  1   0\n",
       "3  0.8750  2.652   2   0   0   0  0.1250  0.0  0.0  0.0   0  1   0\n",
       "4  0.8750  3.178   1   1   0   0  0.1250  0.0  0.0  0.0   0  1   0"
      ]
     },
     "execution_count": 17,
     "metadata": {},
     "output_type": "execute_result"
    }
   ],
   "source": [
    "# drop categorical columns \n",
    "df = df.drop(columns=['A','B','C','y','z','structure'])\n",
    "df.head()"
   ]
  },
  {
   "cell_type": "code",
   "execution_count": 18,
   "id": "1a568410",
   "metadata": {
    "scrolled": true
   },
   "outputs": [],
   "source": [
    "#export final data\n",
    "df.to_csv(\"data/processed_1.csv\", index=False)"
   ]
  },
  {
   "cell_type": "code",
   "execution_count": null,
   "id": "33bbaef5",
   "metadata": {},
   "outputs": [],
   "source": []
  }
 ],
 "metadata": {
  "kernelspec": {
   "display_name": "Python 3 (ipykernel)",
   "language": "python",
   "name": "python3"
  },
  "language_info": {
   "codemirror_mode": {
    "name": "ipython",
    "version": 3
   },
   "file_extension": ".py",
   "mimetype": "text/x-python",
   "name": "python",
   "nbconvert_exporter": "python",
   "pygments_lexer": "ipython3",
   "version": "3.9.12"
  }
 },
 "nbformat": 4,
 "nbformat_minor": 5
}
